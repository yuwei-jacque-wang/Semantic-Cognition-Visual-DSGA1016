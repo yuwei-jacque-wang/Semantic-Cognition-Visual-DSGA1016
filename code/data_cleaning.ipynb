{
 "cells": [
  {
   "cell_type": "markdown",
   "metadata": {},
   "source": [
    "# Data Cleaning\n",
    "\n",
    "This script is for tranforming initial raw data to input vectors. The output files should be of 4 types: sem_items, sem_relations, sem_attributes, sem_data.\n",
    "\n",
    "- sem_items, sem_relations, and sem_attributes consist of all names of items, relations and attributes. These 3 files will not enter model training directly, however, they will supplement in other functions like analysis plotting, so we still recommend processing and storing them in full.\n",
    "- sem_data consists of all one-hot encoded vectors as input for training model.\n",
    "\n",
    "Check sample_input in data folder for reference of output."
   ]
  },
  {
   "cell_type": "code",
   "execution_count": null,
   "metadata": {
    "colab": {
     "base_uri": "https://localhost:8080/"
    },
    "id": "K6FV1AwA_H28",
    "outputId": "5bb717e8-6cfc-4b87-ac29-b57ac90ed645"
   },
   "outputs": [
    {
     "name": "stdout",
     "output_type": "stream",
     "text": [
      "Mounted at /content/drive\n"
     ]
    }
   ],
   "source": [
    "import pandas as pd\n",
    "import numpy as np\n",
    "from google.colab import drive\n",
    "drive.mount('/content/drive')"
   ]
  },
  {
   "cell_type": "code",
   "execution_count": null,
   "metadata": {
    "id": "fRF3BwAdBMbZ"
   },
   "outputs": [],
   "source": [
    "#!ls \"/content/drive/My Drive/1016 Cognition Project/\"\n",
    "path = \"/content/drive/My Drive/1016 Cognition Project/\""
   ]
  },
  {
   "cell_type": "markdown",
   "metadata": {
    "id": "xdaJlQjXKGt2"
   },
   "source": [
    "# Subsample the original dataset"
   ]
  },
  {
   "cell_type": "code",
   "execution_count": null,
   "metadata": {
    "id": "kGPcmnaA_VCU"
   },
   "outputs": [],
   "source": [
    "#read data\n",
    "object_data = pd.read_excel(path+\"Concept_similarity_matrix.xlsx\")\n",
    "object_property = pd.read_excel(path+\"All_concepts_and_features.xlsx\")"
   ]
  },
  {
   "cell_type": "code",
   "execution_count": null,
   "metadata": {
    "colab": {
     "base_uri": "https://localhost:8080/",
     "height": 321
    },
    "id": "_nrpkJXmFcFE",
    "outputId": "c83bd696-ed79-43a1-a0a8-a9876a131e4f"
   },
   "outputs": [
    {
     "data": {
      "text/html": [
       "<div>\n",
       "<style scoped>\n",
       "    .dataframe tbody tr th:only-of-type {\n",
       "        vertical-align: middle;\n",
       "    }\n",
       "\n",
       "    .dataframe tbody tr th {\n",
       "        vertical-align: top;\n",
       "    }\n",
       "\n",
       "    .dataframe thead th {\n",
       "        text-align: right;\n",
       "    }\n",
       "</style>\n",
       "<table border=\"1\" class=\"dataframe\">\n",
       "  <thead>\n",
       "    <tr style=\"text-align: right;\">\n",
       "      <th></th>\n",
       "      <th>Unnamed: 0</th>\n",
       "      <th>Unnamed: 1</th>\n",
       "      <th>安全带</th>\n",
       "      <th>安全帽</th>\n",
       "      <th>安慰奶嘴</th>\n",
       "      <th>鹌鹑</th>\n",
       "      <th>鹌鹑蛋</th>\n",
       "      <th>按键</th>\n",
       "      <th>按摩器</th>\n",
       "      <th>按钮</th>\n",
       "      <th>八宝粥</th>\n",
       "      <th>八哥</th>\n",
       "      <th>巴士</th>\n",
       "      <th>芭蕾舞裙</th>\n",
       "      <th>霸王龙</th>\n",
       "      <th>吧台</th>\n",
       "      <th>白菜</th>\n",
       "      <th>白饭</th>\n",
       "      <th>白果</th>\n",
       "      <th>白桦树</th>\n",
       "      <th>白酒</th>\n",
       "      <th>白萝卜</th>\n",
       "      <th>白皮松</th>\n",
       "      <th>白砂糖</th>\n",
       "      <th>白水</th>\n",
       "      <th>白糖</th>\n",
       "      <th>白杨</th>\n",
       "      <th>白蚁</th>\n",
       "      <th>白银</th>\n",
       "      <th>白粥</th>\n",
       "      <th>百合</th>\n",
       "      <th>百科全书</th>\n",
       "      <th>百事可乐</th>\n",
       "      <th>百香果</th>\n",
       "      <th>柏树</th>\n",
       "      <th>柏油路</th>\n",
       "      <th>摆钟</th>\n",
       "      <th>扳手</th>\n",
       "      <th>斑马</th>\n",
       "      <th>板栗</th>\n",
       "      <th>...</th>\n",
       "      <th>蜘蛛</th>\n",
       "      <th>直立式钢琴</th>\n",
       "      <th>直升机</th>\n",
       "      <th>止血剂</th>\n",
       "      <th>纸</th>\n",
       "      <th>纸巾</th>\n",
       "      <th>指挥棒</th>\n",
       "      <th>指甲</th>\n",
       "      <th>指甲锉</th>\n",
       "      <th>指甲油</th>\n",
       "      <th>指南针</th>\n",
       "      <th>指纹</th>\n",
       "      <th>制服</th>\n",
       "      <th>痣</th>\n",
       "      <th>中山装</th>\n",
       "      <th>中提琴</th>\n",
       "      <th>钟</th>\n",
       "      <th>粥</th>\n",
       "      <th>猪</th>\n",
       "      <th>猪笼草</th>\n",
       "      <th>猪肉</th>\n",
       "      <th>竹节虫</th>\n",
       "      <th>竹子</th>\n",
       "      <th>烛台</th>\n",
       "      <th>煮蛋器</th>\n",
       "      <th>助听器</th>\n",
       "      <th>注射器</th>\n",
       "      <th>蛀虫</th>\n",
       "      <th>砖头</th>\n",
       "      <th>桌布</th>\n",
       "      <th>啄木鸟</th>\n",
       "      <th>子弹</th>\n",
       "      <th>自动步枪</th>\n",
       "      <th>自动扶梯</th>\n",
       "      <th>自动售货机</th>\n",
       "      <th>自行车</th>\n",
       "      <th>字典</th>\n",
       "      <th>钻石</th>\n",
       "      <th>嘴唇</th>\n",
       "      <th>座垫</th>\n",
       "    </tr>\n",
       "  </thead>\n",
       "  <tbody>\n",
       "    <tr>\n",
       "      <th>0</th>\n",
       "      <td>NaN</td>\n",
       "      <td>NaN</td>\n",
       "      <td>Safety belt</td>\n",
       "      <td>Safety hat</td>\n",
       "      <td>pacifier</td>\n",
       "      <td>quail</td>\n",
       "      <td>Quail egg</td>\n",
       "      <td>Key</td>\n",
       "      <td>Massager</td>\n",
       "      <td>Button</td>\n",
       "      <td>Mixed congee</td>\n",
       "      <td>Myna</td>\n",
       "      <td>Bus</td>\n",
       "      <td>ballet skirt</td>\n",
       "      <td>Tyrannosaurus Rex</td>\n",
       "      <td>Bar counter</td>\n",
       "      <td>Chinese cabbage</td>\n",
       "      <td>Plain white rice</td>\n",
       "      <td>Ginkgo biloba</td>\n",
       "      <td>silver birch</td>\n",
       "      <td>Liquor and Spirits</td>\n",
       "      <td>ternip</td>\n",
       "      <td>white-barked pine</td>\n",
       "      <td>White granulated sugar</td>\n",
       "      <td>plain water</td>\n",
       "      <td>White sugar</td>\n",
       "      <td>poplar</td>\n",
       "      <td>termite</td>\n",
       "      <td>silver</td>\n",
       "      <td>Rice Congee</td>\n",
       "      <td>Lily</td>\n",
       "      <td>encyclopedia</td>\n",
       "      <td>Pepsi Cola</td>\n",
       "      <td>Passion fruit</td>\n",
       "      <td>Cypress</td>\n",
       "      <td>Tar Road</td>\n",
       "      <td>Pendulum</td>\n",
       "      <td>Wrench</td>\n",
       "      <td>zebra</td>\n",
       "      <td>Chinese chestnut</td>\n",
       "      <td>...</td>\n",
       "      <td>spider</td>\n",
       "      <td>Upright piano</td>\n",
       "      <td>helicopter</td>\n",
       "      <td>Hemostatic Agents</td>\n",
       "      <td>paper</td>\n",
       "      <td>tissue</td>\n",
       "      <td>Baton</td>\n",
       "      <td>nail</td>\n",
       "      <td>Nail file</td>\n",
       "      <td>Nail Polish</td>\n",
       "      <td>Compass</td>\n",
       "      <td>fingerprint</td>\n",
       "      <td>uniform</td>\n",
       "      <td>nevus</td>\n",
       "      <td>Chinese tunic suit</td>\n",
       "      <td>Viola</td>\n",
       "      <td>clock</td>\n",
       "      <td>Porridge</td>\n",
       "      <td>pig</td>\n",
       "      <td>Nepenthes</td>\n",
       "      <td>pork</td>\n",
       "      <td>stick insect</td>\n",
       "      <td>Bamboo</td>\n",
       "      <td>Candlestick</td>\n",
       "      <td>Egg Cooker</td>\n",
       "      <td>Deaf-aid</td>\n",
       "      <td>Syringe</td>\n",
       "      <td>moth</td>\n",
       "      <td>brick</td>\n",
       "      <td>tablecloth</td>\n",
       "      <td>Woodpecker</td>\n",
       "      <td>Bullet</td>\n",
       "      <td>Automatic rifle</td>\n",
       "      <td>Escalator</td>\n",
       "      <td>vending machine</td>\n",
       "      <td>Bicycle</td>\n",
       "      <td>Dictionaries</td>\n",
       "      <td>Diamonds</td>\n",
       "      <td>Lip</td>\n",
       "      <td>Cushion</td>\n",
       "    </tr>\n",
       "    <tr>\n",
       "      <th>1</th>\n",
       "      <td>安全带</td>\n",
       "      <td>Safety belt</td>\n",
       "      <td>1</td>\n",
       "      <td>0.414539</td>\n",
       "      <td>-0.0125689</td>\n",
       "      <td>-0.0957668</td>\n",
       "      <td>-0.0483416</td>\n",
       "      <td>-0.00209044</td>\n",
       "      <td>0.00247259</td>\n",
       "      <td>0.0130681</td>\n",
       "      <td>-0.0458548</td>\n",
       "      <td>-0.0875633</td>\n",
       "      <td>-0.0174352</td>\n",
       "      <td>-0.0333406</td>\n",
       "      <td>-0.0954928</td>\n",
       "      <td>0.0286141</td>\n",
       "      <td>-0.109101</td>\n",
       "      <td>-0.0683503</td>\n",
       "      <td>-0.107826</td>\n",
       "      <td>-0.0881527</td>\n",
       "      <td>-0.0515634</td>\n",
       "      <td>-0.110055</td>\n",
       "      <td>-0.0893827</td>\n",
       "      <td>-0.022952</td>\n",
       "      <td>-0.0453074</td>\n",
       "      <td>-0.0640332</td>\n",
       "      <td>-0.0970787</td>\n",
       "      <td>-0.092205</td>\n",
       "      <td>-0.0320813</td>\n",
       "      <td>-0.0491984</td>\n",
       "      <td>-0.115517</td>\n",
       "      <td>-0.00017585</td>\n",
       "      <td>-0.0106182</td>\n",
       "      <td>-0.0958466</td>\n",
       "      <td>-0.0949719</td>\n",
       "      <td>0.0140069</td>\n",
       "      <td>-0.015865</td>\n",
       "      <td>-0.014933</td>\n",
       "      <td>-0.0900823</td>\n",
       "      <td>-0.114536</td>\n",
       "      <td>...</td>\n",
       "      <td>-0.0714185</td>\n",
       "      <td>-0.00431414</td>\n",
       "      <td>-0.017217</td>\n",
       "      <td>-0.0184519</td>\n",
       "      <td>-0.0197497</td>\n",
       "      <td>-0.00748598</td>\n",
       "      <td>0.0554013</td>\n",
       "      <td>0.342369</td>\n",
       "      <td>-0.0300324</td>\n",
       "      <td>0.322542</td>\n",
       "      <td>0.00103401</td>\n",
       "      <td>-0.00235393</td>\n",
       "      <td>-0.02115</td>\n",
       "      <td>-0.019971</td>\n",
       "      <td>-0.0175151</td>\n",
       "      <td>-0.00960751</td>\n",
       "      <td>0.00784836</td>\n",
       "      <td>-0.0296317</td>\n",
       "      <td>-0.11552</td>\n",
       "      <td>-0.0956361</td>\n",
       "      <td>-0.0236798</td>\n",
       "      <td>-0.0642364</td>\n",
       "      <td>-0.0841961</td>\n",
       "      <td>-0.0262817</td>\n",
       "      <td>-0.0543253</td>\n",
       "      <td>-0.00105258</td>\n",
       "      <td>-0.00841526</td>\n",
       "      <td>-0.0732531</td>\n",
       "      <td>-0.075671</td>\n",
       "      <td>0.321923</td>\n",
       "      <td>0.165374</td>\n",
       "      <td>-0.0276467</td>\n",
       "      <td>0.293427</td>\n",
       "      <td>-0.00390994</td>\n",
       "      <td>0.000605374</td>\n",
       "      <td>-0.0160302</td>\n",
       "      <td>4.12382e-05</td>\n",
       "      <td>-0.0281335</td>\n",
       "      <td>0.306865</td>\n",
       "      <td>0.349275</td>\n",
       "    </tr>\n",
       "    <tr>\n",
       "      <th>2</th>\n",
       "      <td>安全帽</td>\n",
       "      <td>Safety hat</td>\n",
       "      <td>0.414539</td>\n",
       "      <td>1</td>\n",
       "      <td>-0.0187715</td>\n",
       "      <td>-0.117925</td>\n",
       "      <td>-0.0220425</td>\n",
       "      <td>-0.00283529</td>\n",
       "      <td>-0.0348581</td>\n",
       "      <td>0.0362228</td>\n",
       "      <td>-0.0781839</td>\n",
       "      <td>-0.115681</td>\n",
       "      <td>-0.0340659</td>\n",
       "      <td>-0.0348317</td>\n",
       "      <td>-0.122962</td>\n",
       "      <td>0.0715859</td>\n",
       "      <td>-0.117735</td>\n",
       "      <td>-0.108662</td>\n",
       "      <td>-0.0554468</td>\n",
       "      <td>-0.113601</td>\n",
       "      <td>-0.0675215</td>\n",
       "      <td>-0.126217</td>\n",
       "      <td>-0.113442</td>\n",
       "      <td>-0.0521456</td>\n",
       "      <td>-0.0764681</td>\n",
       "      <td>-0.0890257</td>\n",
       "      <td>-0.116312</td>\n",
       "      <td>-0.108439</td>\n",
       "      <td>0.0739891</td>\n",
       "      <td>-0.0692351</td>\n",
       "      <td>-0.116803</td>\n",
       "      <td>-0.0239901</td>\n",
       "      <td>-0.0442125</td>\n",
       "      <td>-0.0688177</td>\n",
       "      <td>-0.112971</td>\n",
       "      <td>0.0549857</td>\n",
       "      <td>0.028187</td>\n",
       "      <td>0.108984</td>\n",
       "      <td>-0.122533</td>\n",
       "      <td>0.029822</td>\n",
       "      <td>...</td>\n",
       "      <td>-0.0942894</td>\n",
       "      <td>-0.0227235</td>\n",
       "      <td>-0.0394498</td>\n",
       "      <td>-0.0508225</td>\n",
       "      <td>-0.0175678</td>\n",
       "      <td>-0.0348959</td>\n",
       "      <td>-0.0268329</td>\n",
       "      <td>0.409498</td>\n",
       "      <td>0.119719</td>\n",
       "      <td>0.318777</td>\n",
       "      <td>-0.0286148</td>\n",
       "      <td>-0.0443208</td>\n",
       "      <td>-0.0166787</td>\n",
       "      <td>-0.0516413</td>\n",
       "      <td>-0.015394</td>\n",
       "      <td>-0.0288057</td>\n",
       "      <td>-0.03153</td>\n",
       "      <td>-0.0527438</td>\n",
       "      <td>-0.142505</td>\n",
       "      <td>-0.141565</td>\n",
       "      <td>-0.0512213</td>\n",
       "      <td>-0.113184</td>\n",
       "      <td>-0.143898</td>\n",
       "      <td>0.110731</td>\n",
       "      <td>0.0451497</td>\n",
       "      <td>-0.0211359</td>\n",
       "      <td>-0.0270686</td>\n",
       "      <td>-0.125619</td>\n",
       "      <td>0.0473173</td>\n",
       "      <td>0.30762</td>\n",
       "      <td>0.209814</td>\n",
       "      <td>0.0587157</td>\n",
       "      <td>0.351328</td>\n",
       "      <td>0.0725466</td>\n",
       "      <td>-0.0475625</td>\n",
       "      <td>-0.0400154</td>\n",
       "      <td>0.00619625</td>\n",
       "      <td>0.0620956</td>\n",
       "      <td>0.293337</td>\n",
       "      <td>0.335119</td>\n",
       "    </tr>\n",
       "    <tr>\n",
       "      <th>3</th>\n",
       "      <td>安慰奶嘴</td>\n",
       "      <td>pacifier</td>\n",
       "      <td>-0.0125689</td>\n",
       "      <td>-0.0187715</td>\n",
       "      <td>1</td>\n",
       "      <td>-0.105157</td>\n",
       "      <td>-0.0274761</td>\n",
       "      <td>0.100864</td>\n",
       "      <td>0.0923346</td>\n",
       "      <td>0.0540921</td>\n",
       "      <td>0.000155649</td>\n",
       "      <td>-0.093809</td>\n",
       "      <td>0.0499033</td>\n",
       "      <td>0.0174043</td>\n",
       "      <td>-0.0958972</td>\n",
       "      <td>0.0666528</td>\n",
       "      <td>-0.104779</td>\n",
       "      <td>-0.0205999</td>\n",
       "      <td>-0.0907499</td>\n",
       "      <td>-0.0914092</td>\n",
       "      <td>-0.00426837</td>\n",
       "      <td>-0.115078</td>\n",
       "      <td>-0.0920859</td>\n",
       "      <td>0.082621</td>\n",
       "      <td>-0.00270464</td>\n",
       "      <td>-0.00712339</td>\n",
       "      <td>-0.0979111</td>\n",
       "      <td>-0.0996138</td>\n",
       "      <td>0.0645259</td>\n",
       "      <td>0.00506848</td>\n",
       "      <td>-0.133738</td>\n",
       "      <td>0.0772587</td>\n",
       "      <td>0.078913</td>\n",
       "      <td>-0.116647</td>\n",
       "      <td>-0.0950318</td>\n",
       "      <td>0.0411831</td>\n",
       "      <td>0.0573223</td>\n",
       "      <td>0.113808</td>\n",
       "      <td>-0.102963</td>\n",
       "      <td>-0.111234</td>\n",
       "      <td>...</td>\n",
       "      <td>-0.0758094</td>\n",
       "      <td>0.0459779</td>\n",
       "      <td>0.0439349</td>\n",
       "      <td>0.0774315</td>\n",
       "      <td>0.0312468</td>\n",
       "      <td>0.0806492</td>\n",
       "      <td>0.0846025</td>\n",
       "      <td>-0.00877074</td>\n",
       "      <td>0.0974599</td>\n",
       "      <td>-0.00712091</td>\n",
       "      <td>0.111412</td>\n",
       "      <td>0.142214</td>\n",
       "      <td>0.0130985</td>\n",
       "      <td>0.104188</td>\n",
       "      <td>0.025351</td>\n",
       "      <td>0.0552852</td>\n",
       "      <td>0.0719511</td>\n",
       "      <td>0.0769303</td>\n",
       "      <td>-0.109292</td>\n",
       "      <td>-0.142482</td>\n",
       "      <td>0.0730405</td>\n",
       "      <td>-0.0958587</td>\n",
       "      <td>-0.109122</td>\n",
       "      <td>0.0561859</td>\n",
       "      <td>0.00646419</td>\n",
       "      <td>0.0636279</td>\n",
       "      <td>0.141721</td>\n",
       "      <td>-0.112623</td>\n",
       "      <td>-0.00352667</td>\n",
       "      <td>0.00865549</td>\n",
       "      <td>-0.147928</td>\n",
       "      <td>0.0509535</td>\n",
       "      <td>0.0125637</td>\n",
       "      <td>0.048956</td>\n",
       "      <td>0.10863</td>\n",
       "      <td>0.0845791</td>\n",
       "      <td>0.0733384</td>\n",
       "      <td>0.0289418</td>\n",
       "      <td>-0.0139314</td>\n",
       "      <td>0.0142867</td>\n",
       "    </tr>\n",
       "    <tr>\n",
       "      <th>4</th>\n",
       "      <td>鹌鹑</td>\n",
       "      <td>quail</td>\n",
       "      <td>-0.0957668</td>\n",
       "      <td>-0.117925</td>\n",
       "      <td>-0.105157</td>\n",
       "      <td>1</td>\n",
       "      <td>0.0421095</td>\n",
       "      <td>-0.149978</td>\n",
       "      <td>-0.103923</td>\n",
       "      <td>-0.0605614</td>\n",
       "      <td>0.0678059</td>\n",
       "      <td>0.792691</td>\n",
       "      <td>-0.0955625</td>\n",
       "      <td>-0.127287</td>\n",
       "      <td>0.369394</td>\n",
       "      <td>-0.118978</td>\n",
       "      <td>0.00709994</td>\n",
       "      <td>0.0695488</td>\n",
       "      <td>0.0381056</td>\n",
       "      <td>-0.0446143</td>\n",
       "      <td>-0.034203</td>\n",
       "      <td>0.000466475</td>\n",
       "      <td>-0.0458438</td>\n",
       "      <td>-0.0145633</td>\n",
       "      <td>-0.0214586</td>\n",
       "      <td>0.0572243</td>\n",
       "      <td>-0.0523434</td>\n",
       "      <td>0.410488</td>\n",
       "      <td>-0.13688</td>\n",
       "      <td>0.0508003</td>\n",
       "      <td>0.001112</td>\n",
       "      <td>-0.08181</td>\n",
       "      <td>-0.0954412</td>\n",
       "      <td>0.0090552</td>\n",
       "      <td>-0.0512503</td>\n",
       "      <td>-0.103747</td>\n",
       "      <td>-0.103511</td>\n",
       "      <td>-0.153287</td>\n",
       "      <td>0.375457</td>\n",
       "      <td>0.0309249</td>\n",
       "      <td>...</td>\n",
       "      <td>0.258262</td>\n",
       "      <td>-0.0637059</td>\n",
       "      <td>0.0393613</td>\n",
       "      <td>-0.115466</td>\n",
       "      <td>-0.0756703</td>\n",
       "      <td>-0.0933162</td>\n",
       "      <td>-0.0900834</td>\n",
       "      <td>-0.136643</td>\n",
       "      <td>-0.14848</td>\n",
       "      <td>-0.143899</td>\n",
       "      <td>-0.114456</td>\n",
       "      <td>-0.139386</td>\n",
       "      <td>-0.116511</td>\n",
       "      <td>-0.0894244</td>\n",
       "      <td>-0.129005</td>\n",
       "      <td>-0.0733942</td>\n",
       "      <td>-0.0906486</td>\n",
       "      <td>-0.121313</td>\n",
       "      <td>0.398816</td>\n",
       "      <td>0.142815</td>\n",
       "      <td>-0.106643</td>\n",
       "      <td>0.4189</td>\n",
       "      <td>-0.0450004</td>\n",
       "      <td>-0.140562</td>\n",
       "      <td>-0.0318364</td>\n",
       "      <td>-0.0413592</td>\n",
       "      <td>-0.109747</td>\n",
       "      <td>0.427499</td>\n",
       "      <td>-0.0498168</td>\n",
       "      <td>-0.130499</td>\n",
       "      <td>0.658552</td>\n",
       "      <td>-0.0641671</td>\n",
       "      <td>-0.123923</td>\n",
       "      <td>-0.10443</td>\n",
       "      <td>-0.128782</td>\n",
       "      <td>-0.12035</td>\n",
       "      <td>-0.0811969</td>\n",
       "      <td>-0.0993584</td>\n",
       "      <td>-0.125606</td>\n",
       "      <td>-0.14276</td>\n",
       "    </tr>\n",
       "  </tbody>\n",
       "</table>\n",
       "<p>5 rows × 1412 columns</p>\n",
       "</div>"
      ],
      "text/plain": [
       "  Unnamed: 0   Unnamed: 1          安全带  ...         钻石         嘴唇         座垫\n",
       "0        NaN          NaN  Safety belt  ...   Diamonds        Lip    Cushion\n",
       "1        安全带  Safety belt            1  ... -0.0281335   0.306865   0.349275\n",
       "2        安全帽   Safety hat     0.414539  ...  0.0620956   0.293337   0.335119\n",
       "3       安慰奶嘴     pacifier   -0.0125689  ...  0.0289418 -0.0139314  0.0142867\n",
       "4         鹌鹑        quail   -0.0957668  ... -0.0993584  -0.125606   -0.14276\n",
       "\n",
       "[5 rows x 1412 columns]"
      ]
     },
     "execution_count": 34,
     "metadata": {
      "tags": []
     },
     "output_type": "execute_result"
    }
   ],
   "source": [
    "object_data.head()"
   ]
  },
  {
   "cell_type": "code",
   "execution_count": null,
   "metadata": {
    "id": "zKkitHB6Fq0F"
   },
   "outputs": [],
   "source": [
    "all_objects = object_data.iloc[1:,1]\n",
    "all_objects = np.array(all_objects)"
   ]
  },
  {
   "cell_type": "code",
   "execution_count": null,
   "metadata": {
    "id": "SA6Fpv8PGn6v"
   },
   "outputs": [],
   "source": [
    "#randomly choose 700 objects \n",
    "object_sample = np.random.choice(all_objects, size = 700, replace = False)"
   ]
  },
  {
   "cell_type": "code",
   "execution_count": null,
   "metadata": {
    "colab": {
     "base_uri": "https://localhost:8080/",
     "height": 306
    },
    "id": "d2gsHevMGvbI",
    "outputId": "89b1527f-64ca-43d1-fa43-42759eb610b8"
   },
   "outputs": [
    {
     "data": {
      "text/html": [
       "<div>\n",
       "<style scoped>\n",
       "    .dataframe tbody tr th:only-of-type {\n",
       "        vertical-align: middle;\n",
       "    }\n",
       "\n",
       "    .dataframe tbody tr th {\n",
       "        vertical-align: top;\n",
       "    }\n",
       "\n",
       "    .dataframe thead th {\n",
       "        text-align: right;\n",
       "    }\n",
       "</style>\n",
       "<table border=\"1\" class=\"dataframe\">\n",
       "  <thead>\n",
       "    <tr style=\"text-align: right;\">\n",
       "      <th></th>\n",
       "      <th>概念</th>\n",
       "      <th>concept</th>\n",
       "      <th>特征</th>\n",
       "      <th>feature</th>\n",
       "      <th>填写该特征被试数-number of participants mentioning this feature</th>\n",
       "      <th>填写该概念被试数-number of participants rating this feature</th>\n",
       "      <th>按30人计算有多少人填写了该特征-normalized numer of participants mentioning this feature</th>\n",
       "    </tr>\n",
       "  </thead>\n",
       "  <tbody>\n",
       "    <tr>\n",
       "      <th>0</th>\n",
       "      <td>安全带</td>\n",
       "      <td>Safety belt</td>\n",
       "      <td>可以-保护</td>\n",
       "      <td>can-Protect</td>\n",
       "      <td>28</td>\n",
       "      <td>31</td>\n",
       "      <td>27.096774</td>\n",
       "    </tr>\n",
       "    <tr>\n",
       "      <th>1</th>\n",
       "      <td>安全带</td>\n",
       "      <td>Safety belt</td>\n",
       "      <td>是-带子</td>\n",
       "      <td>is-tape</td>\n",
       "      <td>23</td>\n",
       "      <td>31</td>\n",
       "      <td>22.258065</td>\n",
       "    </tr>\n",
       "    <tr>\n",
       "      <th>2</th>\n",
       "      <td>安全带</td>\n",
       "      <td>Safety belt</td>\n",
       "      <td>其他-车</td>\n",
       "      <td>other-Cars</td>\n",
       "      <td>18</td>\n",
       "      <td>31</td>\n",
       "      <td>17.419355</td>\n",
       "    </tr>\n",
       "    <tr>\n",
       "      <th>3</th>\n",
       "      <td>安全带</td>\n",
       "      <td>Safety belt</td>\n",
       "      <td>是-安保的</td>\n",
       "      <td>is-security</td>\n",
       "      <td>17</td>\n",
       "      <td>31</td>\n",
       "      <td>16.451613</td>\n",
       "    </tr>\n",
       "    <tr>\n",
       "      <th>4</th>\n",
       "      <td>安全带</td>\n",
       "      <td>Safety belt</td>\n",
       "      <td>可以-保护人</td>\n",
       "      <td>can-Protect People</td>\n",
       "      <td>16</td>\n",
       "      <td>31</td>\n",
       "      <td>15.483871</td>\n",
       "    </tr>\n",
       "  </tbody>\n",
       "</table>\n",
       "</div>"
      ],
      "text/plain": [
       "    概念  ... 按30人计算有多少人填写了该特征-normalized numer of participants mentioning this feature\n",
       "0  安全带  ...                                          27.096774                       \n",
       "1  安全带  ...                                          22.258065                       \n",
       "2  安全带  ...                                          17.419355                       \n",
       "3  安全带  ...                                          16.451613                       \n",
       "4  安全带  ...                                          15.483871                       \n",
       "\n",
       "[5 rows x 7 columns]"
      ]
     },
     "execution_count": 43,
     "metadata": {
      "tags": []
     },
     "output_type": "execute_result"
    }
   ],
   "source": [
    "object_property.head()"
   ]
  },
  {
   "cell_type": "code",
   "execution_count": null,
   "metadata": {
    "id": "22StJy1QHo9O"
   },
   "outputs": [],
   "source": [
    "#subsample object-property data\n",
    "object_property_sub = object_property[object_property['concept'].isin(object_sample)]"
   ]
  },
  {
   "cell_type": "code",
   "execution_count": null,
   "metadata": {
    "id": "X3SiHXP4I95S"
   },
   "outputs": [],
   "source": [
    "#save to a new data\n",
    "object_property_sub.to_csv(path+'concept_feature_sub.csv')"
   ]
  },
  {
   "cell_type": "markdown",
   "metadata": {
    "id": "6UU4ur4PKQ3I"
   },
   "source": [
    "# Data cleaning, one-hot encoding"
   ]
  },
  {
   "cell_type": "code",
   "execution_count": null,
   "metadata": {
    "id": "sGcLhQ5pKCYo"
   },
   "outputs": [],
   "source": [
    "#load data\n",
    "data = pd.read_csv(path+\"0509_1.csv\")"
   ]
  },
  {
   "cell_type": "code",
   "execution_count": null,
   "metadata": {
    "colab": {
     "base_uri": "https://localhost:8080/",
     "height": 657
    },
    "id": "fpMPFktwBWu1",
    "outputId": "bd8fe4d3-6a7a-4941-9244-dc271dbf2f4b"
   },
   "outputs": [
    {
     "data": {
      "text/html": [
       "<div>\n",
       "<style scoped>\n",
       "    .dataframe tbody tr th:only-of-type {\n",
       "        vertical-align: middle;\n",
       "    }\n",
       "\n",
       "    .dataframe tbody tr th {\n",
       "        vertical-align: top;\n",
       "    }\n",
       "\n",
       "    .dataframe thead th {\n",
       "        text-align: right;\n",
       "    }\n",
       "</style>\n",
       "<table border=\"1\" class=\"dataframe\">\n",
       "  <thead>\n",
       "    <tr style=\"text-align: right;\">\n",
       "      <th></th>\n",
       "      <th>__</th>\n",
       "      <th>concept</th>\n",
       "      <th>__.1</th>\n",
       "      <th>feature</th>\n",
       "      <th>________-number of participants mentioning this feature</th>\n",
       "      <th>________-number of participants rating this feature</th>\n",
       "      <th>_30_____________-normalized numer of participants mentioning this feature</th>\n",
       "      <th>COUNTIF feature</th>\n",
       "      <th>COUNTIF item</th>\n",
       "      <th>Unnamed: 9</th>\n",
       "      <th>Unnamed: 10</th>\n",
       "      <th>Unnamed: 11</th>\n",
       "      <th>Unnamed: 12</th>\n",
       "    </tr>\n",
       "  </thead>\n",
       "  <tbody>\n",
       "    <tr>\n",
       "      <th>0</th>\n",
       "      <td>___</td>\n",
       "      <td>Tyrannosaurus Rex</td>\n",
       "      <td>__-_</td>\n",
       "      <td>need-Water</td>\n",
       "      <td>13</td>\n",
       "      <td>28</td>\n",
       "      <td>13.928571</td>\n",
       "      <td>390</td>\n",
       "      <td>16</td>\n",
       "      <td>NaN</td>\n",
       "      <td>NaN</td>\n",
       "      <td>NaN</td>\n",
       "      <td>NaN</td>\n",
       "    </tr>\n",
       "    <tr>\n",
       "      <th>1</th>\n",
       "      <td>___</td>\n",
       "      <td>silver birch</td>\n",
       "      <td>__-_</td>\n",
       "      <td>need-Water</td>\n",
       "      <td>17</td>\n",
       "      <td>30</td>\n",
       "      <td>17.000000</td>\n",
       "      <td>390</td>\n",
       "      <td>19</td>\n",
       "      <td>NaN</td>\n",
       "      <td>NaN</td>\n",
       "      <td>NaN</td>\n",
       "      <td>NaN</td>\n",
       "    </tr>\n",
       "    <tr>\n",
       "      <th>2</th>\n",
       "      <td>___</td>\n",
       "      <td>white-barked pine</td>\n",
       "      <td>__-_</td>\n",
       "      <td>need-Water</td>\n",
       "      <td>16</td>\n",
       "      <td>30</td>\n",
       "      <td>16.000000</td>\n",
       "      <td>390</td>\n",
       "      <td>16</td>\n",
       "      <td>NaN</td>\n",
       "      <td>NaN</td>\n",
       "      <td>NaN</td>\n",
       "      <td>NaN</td>\n",
       "    </tr>\n",
       "    <tr>\n",
       "      <th>3</th>\n",
       "      <td>__</td>\n",
       "      <td>Cypress</td>\n",
       "      <td>__-_</td>\n",
       "      <td>need-Water</td>\n",
       "      <td>18</td>\n",
       "      <td>28</td>\n",
       "      <td>19.285714</td>\n",
       "      <td>390</td>\n",
       "      <td>16</td>\n",
       "      <td>NaN</td>\n",
       "      <td>NaN</td>\n",
       "      <td>NaN</td>\n",
       "      <td>NaN</td>\n",
       "    </tr>\n",
       "    <tr>\n",
       "      <th>4</th>\n",
       "      <td>__</td>\n",
       "      <td>zebra</td>\n",
       "      <td>__-_</td>\n",
       "      <td>need-Water</td>\n",
       "      <td>14</td>\n",
       "      <td>28</td>\n",
       "      <td>15.000000</td>\n",
       "      <td>390</td>\n",
       "      <td>25</td>\n",
       "      <td>NaN</td>\n",
       "      <td>NaN</td>\n",
       "      <td>NaN</td>\n",
       "      <td>NaN</td>\n",
       "    </tr>\n",
       "    <tr>\n",
       "      <th>...</th>\n",
       "      <td>...</td>\n",
       "      <td>...</td>\n",
       "      <td>...</td>\n",
       "      <td>...</td>\n",
       "      <td>...</td>\n",
       "      <td>...</td>\n",
       "      <td>...</td>\n",
       "      <td>...</td>\n",
       "      <td>...</td>\n",
       "      <td>...</td>\n",
       "      <td>...</td>\n",
       "      <td>...</td>\n",
       "      <td>...</td>\n",
       "    </tr>\n",
       "    <tr>\n",
       "      <th>1494</th>\n",
       "      <td>___</td>\n",
       "      <td>Broccoli</td>\n",
       "      <td>__-_</td>\n",
       "      <td>can-Stir-fry</td>\n",
       "      <td>10</td>\n",
       "      <td>30</td>\n",
       "      <td>10.000000</td>\n",
       "      <td>50</td>\n",
       "      <td>16</td>\n",
       "      <td>NaN</td>\n",
       "      <td>NaN</td>\n",
       "      <td>NaN</td>\n",
       "      <td>NaN</td>\n",
       "    </tr>\n",
       "    <tr>\n",
       "      <th>1495</th>\n",
       "      <td>__</td>\n",
       "      <td>sausage</td>\n",
       "      <td>__-_</td>\n",
       "      <td>can-Stir-fry</td>\n",
       "      <td>9</td>\n",
       "      <td>31</td>\n",
       "      <td>8.709677</td>\n",
       "      <td>50</td>\n",
       "      <td>18</td>\n",
       "      <td>NaN</td>\n",
       "      <td>NaN</td>\n",
       "      <td>NaN</td>\n",
       "      <td>NaN</td>\n",
       "    </tr>\n",
       "    <tr>\n",
       "      <th>1496</th>\n",
       "      <td>___</td>\n",
       "      <td>A variety of Chinese cabbage</td>\n",
       "      <td>__-_</td>\n",
       "      <td>can-Stir-fry</td>\n",
       "      <td>8</td>\n",
       "      <td>30</td>\n",
       "      <td>8.000000</td>\n",
       "      <td>50</td>\n",
       "      <td>17</td>\n",
       "      <td>NaN</td>\n",
       "      <td>NaN</td>\n",
       "      <td>NaN</td>\n",
       "      <td>NaN</td>\n",
       "    </tr>\n",
       "    <tr>\n",
       "      <th>1497</th>\n",
       "      <td>__</td>\n",
       "      <td>onion</td>\n",
       "      <td>__-_</td>\n",
       "      <td>can-Stir-fry</td>\n",
       "      <td>12</td>\n",
       "      <td>30</td>\n",
       "      <td>12.000000</td>\n",
       "      <td>50</td>\n",
       "      <td>17</td>\n",
       "      <td>NaN</td>\n",
       "      <td>NaN</td>\n",
       "      <td>NaN</td>\n",
       "      <td>NaN</td>\n",
       "    </tr>\n",
       "    <tr>\n",
       "      <th>1498</th>\n",
       "      <td>___</td>\n",
       "      <td>Lettuce</td>\n",
       "      <td>__-_</td>\n",
       "      <td>can-Stir-fry</td>\n",
       "      <td>13</td>\n",
       "      <td>30</td>\n",
       "      <td>13.000000</td>\n",
       "      <td>50</td>\n",
       "      <td>33</td>\n",
       "      <td>NaN</td>\n",
       "      <td>NaN</td>\n",
       "      <td>NaN</td>\n",
       "      <td>NaN</td>\n",
       "    </tr>\n",
       "  </tbody>\n",
       "</table>\n",
       "<p>1499 rows × 13 columns</p>\n",
       "</div>"
      ],
      "text/plain": [
       "       __                       concept  ... Unnamed: 11 Unnamed: 12\n",
       "0     ___             Tyrannosaurus Rex  ...         NaN         NaN\n",
       "1     ___                  silver birch  ...         NaN         NaN\n",
       "2     ___             white-barked pine  ...         NaN         NaN\n",
       "3      __                       Cypress  ...         NaN         NaN\n",
       "4      __                         zebra  ...         NaN         NaN\n",
       "...   ...                           ...  ...         ...         ...\n",
       "1494  ___                      Broccoli  ...         NaN         NaN\n",
       "1495   __                       sausage  ...         NaN         NaN\n",
       "1496  ___  A variety of Chinese cabbage  ...         NaN         NaN\n",
       "1497   __                         onion  ...         NaN         NaN\n",
       "1498  ___                       Lettuce  ...         NaN         NaN\n",
       "\n",
       "[1499 rows x 13 columns]"
      ]
     },
     "execution_count": 30,
     "metadata": {
      "tags": []
     },
     "output_type": "execute_result"
    }
   ],
   "source": [
    "data"
   ]
  },
  {
   "cell_type": "code",
   "execution_count": null,
   "metadata": {
    "id": "5PMzmaqnzrdh"
   },
   "outputs": [],
   "source": [
    "#split feature into relation and property\n",
    "data['feature'] = data['feature'].str.split('-')"
   ]
  },
  {
   "cell_type": "code",
   "execution_count": null,
   "metadata": {
    "id": "4OmzHq5W2FRM"
   },
   "outputs": [],
   "source": [
    "#reset index \n",
    "data = data.reset_index(drop=True)"
   ]
  },
  {
   "cell_type": "code",
   "execution_count": null,
   "metadata": {
    "id": "uKeGJSgV2y0-"
   },
   "outputs": [],
   "source": [
    "#separate feature\n",
    "data['relation'] = [data['feature'][i][0] for i in range(len(data))]\n",
    "data['attribute'] = [data['feature'][i][1] for i in range(len(data))]"
   ]
  },
  {
   "cell_type": "code",
   "execution_count": null,
   "metadata": {
    "id": "bYcn7o_57kEd"
   },
   "outputs": [],
   "source": [
    "data['attribute'] = data['attribute'].str.lower()"
   ]
  },
  {
   "cell_type": "markdown",
   "metadata": {
    "id": "7BqNgSW_N16D"
   },
   "source": [
    "## Concept"
   ]
  },
  {
   "cell_type": "code",
   "execution_count": null,
   "metadata": {
    "id": "Q6jzFMm8Cz74"
   },
   "outputs": [],
   "source": [
    "#sort data according to concept\n",
    "data = data.sort_values(by=['concept'])\n",
    "#reset index \n",
    "data = data.reset_index(drop=True)"
   ]
  },
  {
   "cell_type": "code",
   "execution_count": null,
   "metadata": {
    "id": "j9PXknQk7-AM"
   },
   "outputs": [],
   "source": [
    "#one-hot encoding\n",
    "from sklearn.preprocessing import LabelBinarizer\n",
    "#from sklearn.preprocessing import OneHotEncoder\n",
    "data['concept_encoded'] = LabelBinarizer().fit_transform(data.concept).tolist()"
   ]
  },
  {
   "cell_type": "code",
   "execution_count": null,
   "metadata": {
    "colab": {
     "base_uri": "https://localhost:8080/"
    },
    "id": "yVZ4cpmdE5LI",
    "outputId": "98ba14a3-3dda-4a57-800b-09bee9ad63f8"
   },
   "outputs": [
    {
     "name": "stdout",
     "output_type": "stream",
     "text": [
      "File written successfully\n"
     ]
    }
   ],
   "source": [
    "#save concept into a txt file, comment it when done\n",
    "\n",
    "all_concepts = data.concept.unique().tolist()\n",
    "with open(path+'sem_items_0509_1.txt', 'w+') as f:\n",
    " \n",
    "    # write elements of list\n",
    "    for items in all_concepts:\n",
    "        f.write('%s\\n' %items)\n",
    "      \n",
    "    print(\"File written successfully\")\n",
    "# close the file\n",
    "f.close()\n"
   ]
  },
  {
   "cell_type": "markdown",
   "metadata": {
    "id": "AFrpYUv7N7rn"
   },
   "source": [
    "## Relation"
   ]
  },
  {
   "cell_type": "code",
   "execution_count": null,
   "metadata": {
    "colab": {
     "base_uri": "https://localhost:8080/"
    },
    "id": "zY2c-pWcCgPo",
    "outputId": "b005ccbd-62c8-4bb4-c4d1-90b29b67b89f"
   },
   "outputs": [
    {
     "data": {
      "text/plain": [
       "array(['is', 'need', 'has', 'can'], dtype=object)"
      ]
     },
     "execution_count": 38,
     "metadata": {
      "tags": []
     },
     "output_type": "execute_result"
    }
   ],
   "source": [
    "data.relation.unique()"
   ]
  },
  {
   "cell_type": "code",
   "execution_count": null,
   "metadata": {
    "id": "AVdpD9uF-Pcv"
   },
   "outputs": [],
   "source": [
    "#clean relation\n",
    "data.loc[(data['relation'] == 'laike') | (data['relation'] == 'likes '), 'relation'] = 'like'"
   ]
  },
  {
   "cell_type": "code",
   "execution_count": null,
   "metadata": {
    "id": "VcMnqlyqKIrk"
   },
   "outputs": [],
   "source": [
    "#sort data according to relation\n",
    "data = data.sort_values(by=['concept','relation'])"
   ]
  },
  {
   "cell_type": "code",
   "execution_count": null,
   "metadata": {
    "id": "avYa8jcfLzsN"
   },
   "outputs": [],
   "source": [
    "#one-hot encoding\n",
    "data['relation_encoded'] = LabelBinarizer().fit_transform(data.relation).tolist()"
   ]
  },
  {
   "cell_type": "code",
   "execution_count": null,
   "metadata": {
    "colab": {
     "base_uri": "https://localhost:8080/"
    },
    "id": "eJZJKr4gMGCF",
    "outputId": "a6641b01-a939-4653-d6b3-7002eb90c492"
   },
   "outputs": [
    {
     "name": "stdout",
     "output_type": "stream",
     "text": [
      "File written successfully\n"
     ]
    }
   ],
   "source": [
    "#save relation into a txt file, comment it when done\n",
    "\n",
    "all_relations = data.relation.unique().tolist()\n",
    "with open(path+'sem_relations_0509_1.txt', 'w+') as f:\n",
    " \n",
    "    # write elements of list\n",
    "    for items in all_relations:\n",
    "        f.write('%s\\n' %items)\n",
    "      \n",
    "    print(\"File written successfully\")\n",
    "# close the file\n",
    "f.close()\n"
   ]
  },
  {
   "cell_type": "markdown",
   "metadata": {
    "id": "L2wIWbZoN-hm"
   },
   "source": [
    "## Attribute"
   ]
  },
  {
   "cell_type": "code",
   "execution_count": null,
   "metadata": {
    "id": "hMU2tVwIOcZc"
   },
   "outputs": [],
   "source": [
    "#trim spaces\n",
    "data['attribute'] = data['attribute'].str.strip()"
   ]
  },
  {
   "cell_type": "code",
   "execution_count": null,
   "metadata": {
    "id": "_62BcDpaOB_N"
   },
   "outputs": [],
   "source": [
    "#sort data according to attribute\n",
    "data = data.sort_values(by=['attribute'])"
   ]
  },
  {
   "cell_type": "code",
   "execution_count": null,
   "metadata": {
    "id": "q23VL31VPLah"
   },
   "outputs": [],
   "source": [
    "#one-hot encoding\n",
    "data['attribute_encoded'] = LabelBinarizer().fit_transform(data.attribute).tolist()"
   ]
  },
  {
   "cell_type": "code",
   "execution_count": null,
   "metadata": {
    "colab": {
     "base_uri": "https://localhost:8080/"
    },
    "id": "jtCXMX8gP-8X",
    "outputId": "6686394f-b39c-4cee-e646-8d7acd0be9db"
   },
   "outputs": [
    {
     "name": "stdout",
     "output_type": "stream",
     "text": [
      "File written successfully\n"
     ]
    }
   ],
   "source": [
    "#save relation into a txt file, comment it when done\n",
    "\n",
    "all_attributes = data.attribute.unique().tolist()\n",
    "with open(path+'sem_attributes_0509_1.txt', 'w+') as f:\n",
    " \n",
    "    # write elements of list\n",
    "    for items in all_attributes:\n",
    "        f.write('%s\\n' %items)\n",
    "      \n",
    "    print(\"File written successfully\")\n",
    "# close the file\n",
    "f.close()\n"
   ]
  },
  {
   "cell_type": "code",
   "execution_count": null,
   "metadata": {
    "id": "lbF1pL8DQhGd"
   },
   "outputs": [],
   "source": [
    "#concatenate encoded columns\n",
    "data = data.sort_values(by=['concept','relation'])\n",
    "data = data.reset_index(drop=True)\n",
    "data['encoded_concat'] = [data['concept_encoded'][i]+data['relation_encoded'][i]+data['attribute_encoded'][i] for i in range(len(data))]"
   ]
  },
  {
   "cell_type": "code",
   "execution_count": null,
   "metadata": {
    "id": "YpwmZJL-UBUD"
   },
   "outputs": [],
   "source": [
    "data.to_csv(path+'encoded_data.csv')"
   ]
  },
  {
   "cell_type": "markdown",
   "metadata": {
    "id": "HRXtcmiAhvcj"
   },
   "source": [
    "# Get encoded sequences"
   ]
  },
  {
   "cell_type": "code",
   "execution_count": null,
   "metadata": {
    "id": "GrzMvbjKtIOA"
   },
   "outputs": [],
   "source": [
    "data = pd.read_csv(path+'encoded_data.csv')"
   ]
  },
  {
   "cell_type": "code",
   "execution_count": null,
   "metadata": {
    "id": "5gXhN48huY6Z"
   },
   "outputs": [],
   "source": [
    "#convert str of list to list\n",
    "from ast import literal_eval\n",
    "data.concept_encoded = data.concept_encoded.apply(literal_eval)\n",
    "data.relation_encoded = data.relation_encoded.apply(literal_eval)\n",
    "data.attribute_encoded = data.attribute_encoded.apply(literal_eval)"
   ]
  },
  {
   "cell_type": "code",
   "execution_count": null,
   "metadata": {
    "colab": {
     "base_uri": "https://localhost:8080/"
    },
    "id": "MQBEBx8Zvqi9",
    "outputId": "c66d63f9-88d4-4e9f-fb4e-f714c6f34247"
   },
   "outputs": [
    {
     "data": {
      "text/plain": [
       "list"
      ]
     },
     "execution_count": 57,
     "metadata": {
      "tags": []
     },
     "output_type": "execute_result"
    }
   ],
   "source": [
    "type(data['attribute_encoded'][0])"
   ]
  },
  {
   "cell_type": "code",
   "execution_count": null,
   "metadata": {
    "id": "RlX2FKUGgGfO"
   },
   "outputs": [],
   "source": [
    "#convert encoded attribute to np array\n",
    "data.attribute_encoded = data.attribute_encoded.apply(np.array)"
   ]
  },
  {
   "cell_type": "code",
   "execution_count": null,
   "metadata": {
    "colab": {
     "base_uri": "https://localhost:8080/"
    },
    "id": "wDjTWNmd19Ku",
    "outputId": "3236d87f-e4f4-4589-8b47-4456bfd98dd1"
   },
   "outputs": [
    {
     "data": {
      "text/plain": [
       "numpy.ndarray"
      ]
     },
     "execution_count": 59,
     "metadata": {
      "tags": []
     },
     "output_type": "execute_result"
    }
   ],
   "source": [
    "type(data['attribute_encoded'][0])"
   ]
  },
  {
   "cell_type": "code",
   "execution_count": null,
   "metadata": {
    "id": "CZO06zA7h3SP"
   },
   "outputs": [],
   "source": [
    "g = data.groupby(['concept', 'relation'])\n",
    "attr_concat = pd.concat([g.attribute_encoded.apply(np.sum)], axis=1)"
   ]
  },
  {
   "cell_type": "code",
   "execution_count": null,
   "metadata": {
    "colab": {
     "base_uri": "https://localhost:8080/"
    },
    "id": "EbMRhT6Nprmu",
    "outputId": "d2f80526-cbde-4fb8-8f88-dd6a368b8a8b"
   },
   "outputs": [
    {
     "data": {
      "text/plain": [
       "497"
      ]
     },
     "execution_count": 61,
     "metadata": {
      "tags": []
     },
     "output_type": "execute_result"
    }
   ],
   "source": [
    "len(attr_concat['attribute_encoded'])"
   ]
  },
  {
   "cell_type": "code",
   "execution_count": null,
   "metadata": {
    "colab": {
     "base_uri": "https://localhost:8080/"
    },
    "id": "ttdyz1xNqA89",
    "outputId": "a996b3e7-4a0f-4018-d1cd-4fd2d875a129"
   },
   "outputs": [
    {
     "data": {
      "text/plain": [
       "1499"
      ]
     },
     "execution_count": 62,
     "metadata": {
      "tags": []
     },
     "output_type": "execute_result"
    }
   ],
   "source": [
    "concept_relation = [data['concept_encoded'][i]+data['relation_encoded'][i] for i in range(len(data))]\n",
    "len(concept_relation)"
   ]
  },
  {
   "cell_type": "code",
   "execution_count": null,
   "metadata": {
    "id": "jylvnsHBqsNB"
   },
   "outputs": [],
   "source": [
    "unique_concept_relation = []\n",
    "for i in concept_relation:\n",
    "    if i not in unique_concept_relation:\n",
    "        unique_concept_relation.append(i)"
   ]
  },
  {
   "cell_type": "code",
   "execution_count": null,
   "metadata": {
    "colab": {
     "base_uri": "https://localhost:8080/"
    },
    "id": "fTFthS3Jq5Br",
    "outputId": "9d194762-ac51-431d-da1f-0b1f20497e83"
   },
   "outputs": [
    {
     "data": {
      "text/plain": [
       "497"
      ]
     },
     "execution_count": 64,
     "metadata": {
      "tags": []
     },
     "output_type": "execute_result"
    }
   ],
   "source": [
    "len(unique_concept_relation)"
   ]
  },
  {
   "cell_type": "code",
   "execution_count": null,
   "metadata": {
    "id": "xetjthmL31G4"
   },
   "outputs": [],
   "source": [
    "attr_concat_l = attr_concat.attribute_encoded.apply(np.ndarray.tolist)"
   ]
  },
  {
   "cell_type": "code",
   "execution_count": null,
   "metadata": {
    "id": "fLqAvOtn4jHp"
   },
   "outputs": [],
   "source": [
    "obj_rel_attr_list = [unique_concept_relation[i]+attr_concat_l[i] for i in range(len(unique_concept_relation))]"
   ]
  },
  {
   "cell_type": "code",
   "execution_count": null,
   "metadata": {
    "id": "9dIY7y9R61b3"
   },
   "outputs": [],
   "source": [
    "#convert list of int to string\n",
    "obj_rel_attr_str_list = []\n",
    "for l in obj_rel_attr_list:\n",
    "    string_l = [str(n) for n in l]\n",
    "    str_of_int = \" \".join(string_l)\n",
    "    obj_rel_attr_str_list.append(str_of_int)"
   ]
  },
  {
   "cell_type": "code",
   "execution_count": null,
   "metadata": {
    "colab": {
     "base_uri": "https://localhost:8080/"
    },
    "id": "QMUqq5Uz5Hf8",
    "outputId": "272d1900-2da2-46ee-cacb-949671b7e76f"
   },
   "outputs": [
    {
     "name": "stdout",
     "output_type": "stream",
     "text": [
      "File written successfully\n"
     ]
    }
   ],
   "source": [
    "#save data into a txt file, comment it when done\n",
    "\n",
    "with open(path+'sem_data_0429_2.txt', 'w+') as f:\n",
    " \n",
    "    # write elements of list\n",
    "    for items in obj_rel_attr_str_list:\n",
    "        f.write('%s\\n' %items)\n",
    "      \n",
    "    print(\"File written successfully\")\n",
    "# close the file\n",
    "f.close()\n"
   ]
  },
  {
   "cell_type": "code",
   "execution_count": null,
   "metadata": {
    "id": "MCEu-ZkLlsSE"
   },
   "outputs": [],
   "source": [
    "D = np.loadtxt(path+'sem_data.txt')"
   ]
  }
 ],
 "metadata": {
  "accelerator": "GPU",
  "colab": {
   "collapsed_sections": [],
   "name": "data_cleaning.ipynb",
   "provenance": []
  },
  "kernelspec": {
   "display_name": "Python 3",
   "language": "python",
   "name": "python3"
  },
  "language_info": {
   "codemirror_mode": {
    "name": "ipython",
    "version": 3
   },
   "file_extension": ".py",
   "mimetype": "text/x-python",
   "name": "python",
   "nbconvert_exporter": "python",
   "pygments_lexer": "ipython3",
   "version": "3.7.6"
  }
 },
 "nbformat": 4,
 "nbformat_minor": 1
}
