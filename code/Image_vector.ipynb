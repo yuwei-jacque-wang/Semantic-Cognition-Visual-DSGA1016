{
  "nbformat": 4,
  "nbformat_minor": 0,
  "metadata": {
    "colab": {
      "name": "Image vector.ipynb",
      "provenance": [],
      "collapsed_sections": []
    },
    "kernelspec": {
      "name": "python3",
      "display_name": "Python 3"
    },
    "language_info": {
      "name": "python"
    }
  },
  "cells": [
    {
      "cell_type": "code",
      "metadata": {
        "colab": {
          "base_uri": "https://localhost:8080/"
        },
        "id": "JxHAvl_1EmAF",
        "outputId": "ab6054e9-1ea3-4efa-8c80-8100c17d5f9a"
      },
      "source": [
        "import numpy as np\n",
        "# import the models for further classification experiments\n",
        "from tensorflow.keras.applications import (vgg16, resnet50, mobilenet, inception_v3)\n",
        "\n",
        "vgg_model = vgg16.VGG16(weights='imagenet')\n",
        "inception_model = inception_v3.InceptionV3(weights='imagenet')\n",
        "resnet_model = resnet50.ResNet50(weights='imagenet')\n",
        "mobilenet_model = mobilenet.MobileNet(weights='imagenet')"
      ],
      "execution_count": null,
      "outputs": [
        {
          "output_type": "stream",
          "text": [
            "Downloading data from https://storage.googleapis.com/tensorflow/keras-applications/vgg16/vgg16_weights_tf_dim_ordering_tf_kernels.h5\n",
            "553467904/553467096 [==============================] - 4s 0us/step\n",
            "Downloading data from https://storage.googleapis.com/tensorflow/keras-applications/inception_v3/inception_v3_weights_tf_dim_ordering_tf_kernels.h5\n",
            "96116736/96112376 [==============================] - 1s 0us/step\n",
            "Downloading data from https://storage.googleapis.com/tensorflow/keras-applications/resnet/resnet50_weights_tf_dim_ordering_tf_kernels.h5\n",
            "102973440/102967424 [==============================] - 1s 0us/step\n",
            "Downloading data from https://storage.googleapis.com/tensorflow/keras-applications/mobilenet/mobilenet_1_0_224_tf.h5\n",
            "17227776/17225924 [==============================] - 0s 0us/step\n"
          ],
          "name": "stdout"
        }
      ]
    },
    {
      "cell_type": "code",
      "metadata": {
        "colab": {
          "base_uri": "https://localhost:8080/"
        },
        "id": "Y5MB9fGLKm9Y",
        "outputId": "b7df5fab-73a2-44e5-8f06-aec854d963f4"
      },
      "source": [
        "# Import libraries\n",
        "from __future__ import print_function\n",
        "import matplotlib\n",
        "%matplotlib inline\n",
        "import matplotlib.pyplot as plt\n",
        "import numpy as np\n",
        "import torch\n",
        "import torch.nn as nn\n",
        "from torch.nn.functional import sigmoid, relu\n",
        "from scipy.cluster.hierarchy import dendrogram, linkage\n",
        "from google.colab import drive\n",
        "drive.mount('/content/drive')"
      ],
      "execution_count": null,
      "outputs": [
        {
          "output_type": "stream",
          "text": [
            "Mounted at /content/drive\n"
          ],
          "name": "stdout"
        }
      ]
    },
    {
      "cell_type": "code",
      "metadata": {
        "id": "G-29wKghFIfs"
      },
      "source": [
        "import matplotlib.pyplot as plt\n",
        "from tensorflow.keras.preprocessing.image import load_img\n",
        "from tensorflow.keras.preprocessing.image import img_to_array\n",
        "from tensorflow.keras.applications.imagenet_utils import decode_predictions"
      ],
      "execution_count": null,
      "outputs": []
    },
    {
      "cell_type": "code",
      "metadata": {
        "colab": {
          "base_uri": "https://localhost:8080/"
        },
        "id": "URnPS03bFWQo",
        "outputId": "3f10b2ca-44a8-4255-824e-b67c83ce7e04"
      },
      "source": [
        "!pip install git+git://github.com/jaredwinick/img2vec-keras.git"
      ],
      "execution_count": null,
      "outputs": [
        {
          "output_type": "stream",
          "text": [
            "Collecting git+git://github.com/jaredwinick/img2vec-keras.git\n",
            "  Cloning git://github.com/jaredwinick/img2vec-keras.git to /tmp/pip-req-build-vxwkzrl3\n",
            "  Running command git clone -q git://github.com/jaredwinick/img2vec-keras.git /tmp/pip-req-build-vxwkzrl3\n",
            "Requirement already satisfied: numpy>=1.9.1 in /usr/local/lib/python3.7/dist-packages (from img2vec-keras==0.2) (1.19.5)\n",
            "Requirement already satisfied: tensorflow>=2.0.0 in /usr/local/lib/python3.7/dist-packages (from img2vec-keras==0.2) (2.4.1)\n",
            "Requirement already satisfied: pillow in /usr/local/lib/python3.7/dist-packages (from img2vec-keras==0.2) (7.1.2)\n",
            "Requirement already satisfied: absl-py~=0.10 in /usr/local/lib/python3.7/dist-packages (from tensorflow>=2.0.0->img2vec-keras==0.2) (0.12.0)\n",
            "Requirement already satisfied: keras-preprocessing~=1.1.2 in /usr/local/lib/python3.7/dist-packages (from tensorflow>=2.0.0->img2vec-keras==0.2) (1.1.2)\n",
            "Requirement already satisfied: protobuf>=3.9.2 in /usr/local/lib/python3.7/dist-packages (from tensorflow>=2.0.0->img2vec-keras==0.2) (3.12.4)\n",
            "Requirement already satisfied: wheel~=0.35 in /usr/local/lib/python3.7/dist-packages (from tensorflow>=2.0.0->img2vec-keras==0.2) (0.36.2)\n",
            "Requirement already satisfied: wrapt~=1.12.1 in /usr/local/lib/python3.7/dist-packages (from tensorflow>=2.0.0->img2vec-keras==0.2) (1.12.1)\n",
            "Requirement already satisfied: gast==0.3.3 in /usr/local/lib/python3.7/dist-packages (from tensorflow>=2.0.0->img2vec-keras==0.2) (0.3.3)\n",
            "Requirement already satisfied: opt-einsum~=3.3.0 in /usr/local/lib/python3.7/dist-packages (from tensorflow>=2.0.0->img2vec-keras==0.2) (3.3.0)\n",
            "Requirement already satisfied: tensorboard~=2.4 in /usr/local/lib/python3.7/dist-packages (from tensorflow>=2.0.0->img2vec-keras==0.2) (2.4.1)\n",
            "Requirement already satisfied: flatbuffers~=1.12.0 in /usr/local/lib/python3.7/dist-packages (from tensorflow>=2.0.0->img2vec-keras==0.2) (1.12)\n",
            "Requirement already satisfied: termcolor~=1.1.0 in /usr/local/lib/python3.7/dist-packages (from tensorflow>=2.0.0->img2vec-keras==0.2) (1.1.0)\n",
            "Requirement already satisfied: tensorflow-estimator<2.5.0,>=2.4.0 in /usr/local/lib/python3.7/dist-packages (from tensorflow>=2.0.0->img2vec-keras==0.2) (2.4.0)\n",
            "Requirement already satisfied: typing-extensions~=3.7.4 in /usr/local/lib/python3.7/dist-packages (from tensorflow>=2.0.0->img2vec-keras==0.2) (3.7.4.3)\n",
            "Requirement already satisfied: astunparse~=1.6.3 in /usr/local/lib/python3.7/dist-packages (from tensorflow>=2.0.0->img2vec-keras==0.2) (1.6.3)\n",
            "Requirement already satisfied: six~=1.15.0 in /usr/local/lib/python3.7/dist-packages (from tensorflow>=2.0.0->img2vec-keras==0.2) (1.15.0)\n",
            "Requirement already satisfied: h5py~=2.10.0 in /usr/local/lib/python3.7/dist-packages (from tensorflow>=2.0.0->img2vec-keras==0.2) (2.10.0)\n",
            "Requirement already satisfied: grpcio~=1.32.0 in /usr/local/lib/python3.7/dist-packages (from tensorflow>=2.0.0->img2vec-keras==0.2) (1.32.0)\n",
            "Requirement already satisfied: google-pasta~=0.2 in /usr/local/lib/python3.7/dist-packages (from tensorflow>=2.0.0->img2vec-keras==0.2) (0.2.0)\n",
            "Requirement already satisfied: setuptools in /usr/local/lib/python3.7/dist-packages (from protobuf>=3.9.2->tensorflow>=2.0.0->img2vec-keras==0.2) (56.0.0)\n",
            "Requirement already satisfied: werkzeug>=0.11.15 in /usr/local/lib/python3.7/dist-packages (from tensorboard~=2.4->tensorflow>=2.0.0->img2vec-keras==0.2) (1.0.1)\n",
            "Requirement already satisfied: tensorboard-plugin-wit>=1.6.0 in /usr/local/lib/python3.7/dist-packages (from tensorboard~=2.4->tensorflow>=2.0.0->img2vec-keras==0.2) (1.8.0)\n",
            "Requirement already satisfied: markdown>=2.6.8 in /usr/local/lib/python3.7/dist-packages (from tensorboard~=2.4->tensorflow>=2.0.0->img2vec-keras==0.2) (3.3.4)\n",
            "Requirement already satisfied: requests<3,>=2.21.0 in /usr/local/lib/python3.7/dist-packages (from tensorboard~=2.4->tensorflow>=2.0.0->img2vec-keras==0.2) (2.23.0)\n",
            "Requirement already satisfied: google-auth<2,>=1.6.3 in /usr/local/lib/python3.7/dist-packages (from tensorboard~=2.4->tensorflow>=2.0.0->img2vec-keras==0.2) (1.28.1)\n",
            "Requirement already satisfied: google-auth-oauthlib<0.5,>=0.4.1 in /usr/local/lib/python3.7/dist-packages (from tensorboard~=2.4->tensorflow>=2.0.0->img2vec-keras==0.2) (0.4.4)\n",
            "Requirement already satisfied: importlib-metadata; python_version < \"3.8\" in /usr/local/lib/python3.7/dist-packages (from markdown>=2.6.8->tensorboard~=2.4->tensorflow>=2.0.0->img2vec-keras==0.2) (3.10.1)\n",
            "Requirement already satisfied: certifi>=2017.4.17 in /usr/local/lib/python3.7/dist-packages (from requests<3,>=2.21.0->tensorboard~=2.4->tensorflow>=2.0.0->img2vec-keras==0.2) (2020.12.5)\n",
            "Requirement already satisfied: chardet<4,>=3.0.2 in /usr/local/lib/python3.7/dist-packages (from requests<3,>=2.21.0->tensorboard~=2.4->tensorflow>=2.0.0->img2vec-keras==0.2) (3.0.4)\n",
            "Requirement already satisfied: urllib3!=1.25.0,!=1.25.1,<1.26,>=1.21.1 in /usr/local/lib/python3.7/dist-packages (from requests<3,>=2.21.0->tensorboard~=2.4->tensorflow>=2.0.0->img2vec-keras==0.2) (1.24.3)\n",
            "Requirement already satisfied: idna<3,>=2.5 in /usr/local/lib/python3.7/dist-packages (from requests<3,>=2.21.0->tensorboard~=2.4->tensorflow>=2.0.0->img2vec-keras==0.2) (2.10)\n",
            "Requirement already satisfied: rsa<5,>=3.1.4; python_version >= \"3.6\" in /usr/local/lib/python3.7/dist-packages (from google-auth<2,>=1.6.3->tensorboard~=2.4->tensorflow>=2.0.0->img2vec-keras==0.2) (4.7.2)\n",
            "Requirement already satisfied: cachetools<5.0,>=2.0.0 in /usr/local/lib/python3.7/dist-packages (from google-auth<2,>=1.6.3->tensorboard~=2.4->tensorflow>=2.0.0->img2vec-keras==0.2) (4.2.1)\n",
            "Requirement already satisfied: pyasn1-modules>=0.2.1 in /usr/local/lib/python3.7/dist-packages (from google-auth<2,>=1.6.3->tensorboard~=2.4->tensorflow>=2.0.0->img2vec-keras==0.2) (0.2.8)\n",
            "Requirement already satisfied: requests-oauthlib>=0.7.0 in /usr/local/lib/python3.7/dist-packages (from google-auth-oauthlib<0.5,>=0.4.1->tensorboard~=2.4->tensorflow>=2.0.0->img2vec-keras==0.2) (1.3.0)\n",
            "Requirement already satisfied: zipp>=0.5 in /usr/local/lib/python3.7/dist-packages (from importlib-metadata; python_version < \"3.8\"->markdown>=2.6.8->tensorboard~=2.4->tensorflow>=2.0.0->img2vec-keras==0.2) (3.4.1)\n",
            "Requirement already satisfied: pyasn1>=0.1.3 in /usr/local/lib/python3.7/dist-packages (from rsa<5,>=3.1.4; python_version >= \"3.6\"->google-auth<2,>=1.6.3->tensorboard~=2.4->tensorflow>=2.0.0->img2vec-keras==0.2) (0.4.8)\n",
            "Requirement already satisfied: oauthlib>=3.0.0 in /usr/local/lib/python3.7/dist-packages (from requests-oauthlib>=0.7.0->google-auth-oauthlib<0.5,>=0.4.1->tensorboard~=2.4->tensorflow>=2.0.0->img2vec-keras==0.2) (3.1.0)\n",
            "Building wheels for collected packages: img2vec-keras\n",
            "  Building wheel for img2vec-keras (setup.py) ... \u001b[?25l\u001b[?25hdone\n",
            "  Created wheel for img2vec-keras: filename=img2vec_keras-0.2-cp37-none-any.whl size=6205 sha256=6c24f61f80005d8295b36d33b92077d017c01b318e8139cf8f1870d5dfc439ca\n",
            "  Stored in directory: /tmp/pip-ephem-wheel-cache-qj25zo0h/wheels/2e/90/3e/18022740db56735624f1fa778b670e7c013bbf4e9b1802e764\n",
            "Successfully built img2vec-keras\n",
            "Installing collected packages: img2vec-keras\n",
            "Successfully installed img2vec-keras-0.2\n"
          ],
          "name": "stdout"
        }
      ]
    },
    {
      "cell_type": "markdown",
      "metadata": {
        "id": "OQEWFT3cM9yK"
      },
      "source": [
        "### A try-out case for generating vector from 'bird.png'"
      ]
    },
    {
      "cell_type": "code",
      "metadata": {
        "id": "I26J0SNvJgWB"
      },
      "source": [
        "from img2vec_keras import Img2Vec\n",
        "img2vec = Img2Vec()\n",
        "path = \"/content/drive/My Drive/1016 Cognition Project/\"\n",
        "x = img2vec.get_vec(path+'images/bird.jpg')"
      ],
      "execution_count": null,
      "outputs": []
    },
    {
      "cell_type": "code",
      "metadata": {
        "colab": {
          "base_uri": "https://localhost:8080/"
        },
        "id": "wF0ht7QaJkeF",
        "outputId": "97fe49b0-5e36-4db5-b85b-b73249666cab"
      },
      "source": [
        "x"
      ],
      "execution_count": null,
      "outputs": [
        {
          "output_type": "execute_result",
          "data": {
            "text/plain": [
              "array([0.21992452, 0.05137749, 0.07441771, ..., 0.8241051 , 0.4698608 ,\n",
              "       0.38602597], dtype=float32)"
            ]
          },
          "metadata": {
            "tags": []
          },
          "execution_count": 30
        }
      ]
    },
    {
      "cell_type": "markdown",
      "metadata": {
        "id": "i3UGJMPoNFtp"
      },
      "source": [
        "### Process animal names for matching"
      ]
    },
    {
      "cell_type": "code",
      "metadata": {
        "id": "1CHG3yFrKwLj"
      },
      "source": [
        "with open(path+'/sem_items_animal_only.txt','r') as fid:\n",
        "    names_items = np.array([l.strip() for l in fid.readlines()])"
      ],
      "execution_count": null,
      "outputs": []
    },
    {
      "cell_type": "code",
      "metadata": {
        "id": "iHd5uQgtLQRa"
      },
      "source": [
        "names_items_processed = [name.lower() for name in names_items]\n",
        "names_items_processed = [name.replace(' ','_') for name in names_items_processed]"
      ],
      "execution_count": null,
      "outputs": []
    },
    {
      "cell_type": "code",
      "metadata": {
        "id": "eej9kG5-LdtC"
      },
      "source": [
        "#names_items_processed"
      ],
      "execution_count": null,
      "outputs": []
    },
    {
      "cell_type": "markdown",
      "metadata": {
        "id": "dLcUhxAeUiZi"
      },
      "source": [
        "### Generate raw vector, as same order as data input"
      ]
    },
    {
      "cell_type": "code",
      "metadata": {
        "colab": {
          "base_uri": "https://localhost:8080/"
        },
        "id": "0P-T33v9Melr",
        "outputId": "8297ad02-7e0c-4fc7-9257-6954dc9e1144"
      },
      "source": [
        "D = np.loadtxt(path+'sem_data_animal_only.txt')\n",
        "nobj = len(names_items)\n",
        "\n",
        "input_pats = D[:,:nobj]\n",
        "input_pats = torch.tensor(input_pats,dtype=torch.float)\n",
        "input_v = input_pats[0,:].numpy().astype('bool')\n",
        "print('Example input pattern:')\n",
        "print(input_v.astype('int'))"
      ],
      "execution_count": null,
      "outputs": [
        {
          "output_type": "stream",
          "text": [
            "Example input pattern:\n",
            "[1 0 0 0 0 0 0 0 0 0 0 0 0 0 0 0 0 0 0 0 0 0 0 0 0 0 0 0 0 0 0 0 0 0 0 0 0\n",
            " 0 0 0 0 0 0 0 0 0 0 0 0 0 0 0 0 0 0 0 0 0 0 0 0 0 0 0 0 0 0 0 0 0 0 0 0 0\n",
            " 0 0 0]\n"
          ],
          "name": "stdout"
        }
      ]
    },
    {
      "cell_type": "code",
      "metadata": {
        "colab": {
          "base_uri": "https://localhost:8080/"
        },
        "id": "dIW3QrwgWRRp",
        "outputId": "7824800f-0238-4048-ee35-13b18ba655a6"
      },
      "source": [
        "list(input_v.astype('int')).index(1)"
      ],
      "execution_count": null,
      "outputs": [
        {
          "output_type": "execute_result",
          "data": {
            "text/plain": [
              "0"
            ]
          },
          "metadata": {
            "tags": []
          },
          "execution_count": 42
        }
      ]
    },
    {
      "cell_type": "code",
      "metadata": {
        "id": "TNR_GoX4U5op"
      },
      "source": [
        "def get_vec(input_pat_vec):\n",
        "  # Binary input vector pattern, same as \"Example input pattern\" above\n",
        "  index = input_pat_vec.index(1)\n",
        "  item = names_items_processed[index] # name of the animal\n",
        "  image_path = path+'images/'+item+'.jpg'\n",
        "  image_vec = img2vec.get_vec(image_path)\n",
        "  return image_vec"
      ],
      "execution_count": null,
      "outputs": []
    },
    {
      "cell_type": "code",
      "metadata": {
        "id": "fcxzLyMyVU1X"
      },
      "source": [
        "vector_list = []\n",
        "\n",
        "for item_ind in range(len(input_pats)):\n",
        "  input_v = input_pats[item_ind,:].numpy().astype('bool')\n",
        "  input_pat_vec = list(input_v.astype('int'))\n",
        "  image_vec = get_vec(input_pat_vec)\n",
        "  vector_list.append(image_vec)"
      ],
      "execution_count": null,
      "outputs": []
    },
    {
      "cell_type": "markdown",
      "metadata": {
        "id": "oiUhcWn6avv3"
      },
      "source": [
        "### Get the vectors for 6 general animal group"
      ]
    },
    {
      "cell_type": "code",
      "metadata": {
        "id": "jdHSdiiTW1u9"
      },
      "source": [
        "category_names = ['amphibians', 'birds', 'fish', 'invertebrates', 'mammals', 'reptiles']\n",
        "sim_results = {}"
      ],
      "execution_count": null,
      "outputs": []
    },
    {
      "cell_type": "code",
      "metadata": {
        "id": "koyC3EF2knKd"
      },
      "source": [
        "cat_vectors = {}\n",
        "for cat_name in category_names:\n",
        "  temp = []\n",
        "  temp.append(img2vec.get_vec(path+'images/'+cat_name+'1.jpg'))\n",
        "  temp.append(img2vec.get_vec(path+'images/'+cat_name+'2.jpg'))\n",
        "  temp.append(img2vec.get_vec(path+'images/'+cat_name+'3.jpg'))\n",
        "  temp.append(img2vec.get_vec(path+'images/'+cat_name+'4.jpg'))\n",
        "  cat_vectors[cat_name] = temp"
      ],
      "execution_count": null,
      "outputs": []
    },
    {
      "cell_type": "code",
      "metadata": {
        "id": "TfEtb4yCZeR6"
      },
      "source": [
        "from sklearn.metrics.pairwise import cosine_similarity\n",
        "\n",
        "def get_category_similarity(item_index, cat_name):\n",
        "  cat_vec1 = cat_vectors[cat_name][0]\n",
        "  cat_vec2 = cat_vectors[cat_name][1]\n",
        "  cat_vec3 = cat_vectors[cat_name][2]\n",
        "  cat_vec4 = cat_vectors[cat_name][3]\n",
        "  item_vec = vector_list[item_index]\n",
        "  X = np.stack([item_vec, cat_vec1, cat_vec2, cat_vec3, cat_vec4])\n",
        "  Y = X\n",
        "  sim_matrix = cosine_similarity(X,Y)\n",
        "  sim_score = sim_matrix[0][1:].mean()\n",
        "  return sim_score"
      ],
      "execution_count": null,
      "outputs": []
    },
    {
      "cell_type": "code",
      "metadata": {
        "id": "iko5OKUCfKmi"
      },
      "source": [
        "for cat_i in category_names:\n",
        "  temp_storage = []\n",
        "  for item_ind in range(len(vector_list)):\n",
        "    item_vec = vector_list[item_ind]\n",
        "    temp_storage.append(get_category_similarity(item_ind, cat_i))\n",
        "  sim_results[cat_i] = temp_storage"
      ],
      "execution_count": null,
      "outputs": []
    },
    {
      "cell_type": "code",
      "metadata": {
        "id": "bJJvNDD2fNFG"
      },
      "source": [
        "#sim_results['birds']"
      ],
      "execution_count": null,
      "outputs": []
    },
    {
      "cell_type": "code",
      "metadata": {
        "id": "YbADoH_plSqo"
      },
      "source": [
        ""
      ],
      "execution_count": null,
      "outputs": []
    }
  ]
}